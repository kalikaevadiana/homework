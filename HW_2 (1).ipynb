{
  "nbformat": 4,
  "nbformat_minor": 0,
  "metadata": {
    "colab": {
      "provenance": [],
      "collapsed_sections": []
    },
    "kernelspec": {
      "name": "python3",
      "display_name": "Python 3"
    },
    "language_info": {
      "name": "python"
    }
  },
  "cells": [
    {
      "cell_type": "code",
      "source": [
        "import numpy as np"
      ],
      "metadata": {
        "id": "6jpVAV5t1D2J"
      },
      "execution_count": 2,
      "outputs": []
    },
    {
      "cell_type": "markdown",
      "source": [
        "\n",
        "\n",
        "1. Создайте матрицу 5x5 со значениями 1,2,3,4 под главной диагональю. Остальные значения - нули.\n",
        "\n",
        "\n"
      ],
      "metadata": {
        "id": "8djsa2jB0Xt7"
      }
    },
    {
      "cell_type": "code",
      "execution_count": 4,
      "metadata": {
        "colab": {
          "base_uri": "https://localhost:8080/"
        },
        "id": "E8T8cYm-0K94",
        "outputId": "1f4ad566-3854-45dd-c0e9-8c55c6cc68a5"
      },
      "outputs": [
        {
          "output_type": "stream",
          "name": "stdout",
          "text": [
            "[[0. 0. 0. 0. 0.]\n",
            " [1. 0. 0. 0. 0.]\n",
            " [0. 2. 0. 0. 0.]\n",
            " [0. 0. 3. 0. 0.]\n",
            " [0. 0. 0. 4. 0.]]\n"
          ]
        }
      ],
      "source": [
        "c = np.vstack(( np.zeros(4), np.diag([1, 2, 3 , 4])))\n",
        "b = np.zeros(5).reshape(-1, 1)\n",
        "c = np.hstack((c, b))\n",
        "print(c)"
      ]
    },
    {
      "cell_type": "markdown",
      "source": [
        "2.Создайте двумерный массив 10x3, заполненный случайными значениями. В каждой строке выберите значение, наиболее близкое к 0.5.\n",
        "\n"
      ],
      "metadata": {
        "id": "a-rY8j7398Da"
      }
    },
    {
      "cell_type": "code",
      "source": [
        "a = np.random.randn(10, 3)\n",
        "print(a)\n",
        "b = np.argmin(abs(a - 0.5), axis = 1)\n",
        "for i in range(0, 9):\n",
        "   print(a[i][b[i]])\n"
      ],
      "metadata": {
        "colab": {
          "base_uri": "https://localhost:8080/"
        },
        "id": "ZKLRK5Sw2iKN",
        "outputId": "b8896e2a-6a13-4370-b7d1-7c025ae0cf50"
      },
      "execution_count": 5,
      "outputs": [
        {
          "output_type": "stream",
          "name": "stdout",
          "text": [
            "[[ 0.38104719 -1.19189983 -0.91188671]\n",
            " [ 1.59460593  0.64000476  1.04290986]\n",
            " [-0.59678108 -0.92495384  1.50302446]\n",
            " [-0.86247567 -0.14978141  0.09544671]\n",
            " [ 0.90604995  1.43156094  1.17801509]\n",
            " [ 0.22720422  1.55433899 -2.33269792]\n",
            " [ 0.65606512 -1.014815   -1.08265633]\n",
            " [ 2.08997809 -1.14367969  0.76422885]\n",
            " [ 0.68601535  0.2999085  -1.56679796]\n",
            " [ 0.47121956  1.80642077 -3.00551453]]\n",
            "0.3810471895038589\n",
            "0.6400047559312109\n",
            "1.5030244573089673\n",
            "0.09544671285338381\n",
            "0.9060499505130792\n",
            "0.22720421960227113\n",
            "0.6560651215750504\n",
            "0.7642288459532696\n",
            "0.6860153501584009\n"
          ]
        }
      ]
    },
    {
      "cell_type": "markdown",
      "source": [
        "3.Создайте двумерный массив 6x6, заполненный случайными значениями. Сумму по каждой строке поделите на максимальный элемент из столбца с тем же индексом."
      ],
      "metadata": {
        "id": "6fkceIfgDfSt"
      }
    },
    {
      "cell_type": "code",
      "source": [
        "a = np.random.randn(6, 6)\n",
        "print(a, a[2])\n",
        "\n",
        "b = np.max(a, axis = 0)\n",
        "c = np.sum(a, axis = 1)\n",
        "print(b, c)\n",
        "for i in range(0, 5):\n",
        "  print(c[i]/b[i])\n",
        "   "
      ],
      "metadata": {
        "colab": {
          "base_uri": "https://localhost:8080/"
        },
        "id": "EdNAIrRXDvWj",
        "outputId": "cfd63f98-ea7a-439b-ec4a-7e8e2235ba20"
      },
      "execution_count": 9,
      "outputs": [
        {
          "output_type": "stream",
          "name": "stdout",
          "text": [
            "[[ 0.30082934 -0.18670922 -0.86749674  1.38054828  0.17099182  0.25968475]\n",
            " [-2.09009951 -1.05437093  0.06939374  0.99075578  1.16304071 -0.84348362]\n",
            " [-1.71541788  0.57480422  0.59745718  1.98723331  0.05803409 -0.06158756]\n",
            " [ 0.89253226  0.799253    0.1006769   0.75428556  1.42626539 -0.33959144]\n",
            " [-0.10422188  0.92591358  0.28520641 -2.04858228  0.63826877  0.27119119]\n",
            " [ 0.45063591  0.54606337  0.07605245  0.28835413 -0.96312352  1.93833254]] [-1.71541788  0.57480422  0.59745718  1.98723331  0.05803409 -0.06158756]\n",
            "[0.89253226 0.92591358 0.59745718 1.98723331 1.42626539 1.93833254] [ 1.05784824 -1.76476382  1.44052335  3.63342168 -0.03222421  2.33631488]\n",
            "1.1852212921397371\n",
            "-1.9059703458423065\n",
            "2.411090523578518\n",
            "1.828382034255046\n",
            "-0.022593415198727703\n"
          ]
        }
      ]
    },
    {
      "cell_type": "markdown",
      "source": [
        "4.\n",
        "\n",
        "\n",
        "\n",
        "\n",
        "\n",
        "\n",
        "\n",
        "\n",
        "\n",
        "\n",
        "\n",
        "\n",
        "На примере массива x = np.array([6, 2, 0, 3, 0, 0, 5, 7, 0]) найдите максимальный элемент в массиве среди элементов, перед которыми стоит ноль."
      ],
      "metadata": {
        "id": "xeDfreBkDjge"
      }
    },
    {
      "cell_type": "code",
      "source": [
        "x = np.array([6, 2, 0, 3, 0, 0, 5, 7, 0])\n",
        "max(x[i] for i in range(1, len(x)) if x[i - 1] == 0)\n"
      ],
      "metadata": {
        "colab": {
          "base_uri": "https://localhost:8080/"
        },
        "id": "p9a7u-fFDrFW",
        "outputId": "b019bb1b-c495-40e4-a1a0-7a236a2558b1"
      },
      "execution_count": 7,
      "outputs": [
        {
          "output_type": "execute_result",
          "data": {
            "text/plain": [
              "5"
            ]
          },
          "metadata": {},
          "execution_count": 7
        }
      ]
    },
    {
      "cell_type": "markdown",
      "source": [
        "5.Пусть заданы два массива x = np.ones(10) и i = np.array([0, 1, 2, 3, 5, 5, 5, 8]). Прибавьте единицу к тем элементам массива x, индексы которых указаны в массиве i. В случае, если некоторый индекс встретился в массиве i несколько раз, прибавьте к соответствующему элементу массива x число вхождений данного индекса в массив i.\n"
      ],
      "metadata": {
        "id": "9CT922TtDlzW"
      }
    },
    {
      "cell_type": "code",
      "source": [
        "x = np.ones(10)\n",
        "i = np.array([0, 1, 2, 3, 5, 5, 5, 8])\n",
        "\n",
        "for k in range(0, len(i)):\n",
        "  x [i[k]] = x [i[k]] + 1\n",
        "#x[i] = x[i] + 1\n",
        "print( x)"
      ],
      "metadata": {
        "colab": {
          "base_uri": "https://localhost:8080/"
        },
        "id": "MKtKqOHv-gwp",
        "outputId": "f94cb230-03da-4c4f-820a-0c38c23ff864"
      },
      "execution_count": 8,
      "outputs": [
        {
          "output_type": "stream",
          "name": "stdout",
          "text": [
            "[2. 2. 2. 2. 1. 4. 1. 1. 2. 1.]\n"
          ]
        }
      ]
    },
    {
      "cell_type": "markdown",
      "source": [
        "6. Сколько вы можете предложить способов округлить значения в массиве до ближайшего целого?"
      ],
      "metadata": {
        "id": "l9wGtcAFhW7I"
      }
    },
    {
      "cell_type": "code",
      "source": [
        "a = np.random.randn(10)\n",
        "print(a)\n",
        "np.around(a)"
      ],
      "metadata": {
        "colab": {
          "base_uri": "https://localhost:8080/"
        },
        "id": "VP15iFuVeiE3",
        "outputId": "43815e14-49eb-468b-a1a0-b9d3372805cc"
      },
      "execution_count": null,
      "outputs": [
        {
          "output_type": "stream",
          "name": "stdout",
          "text": [
            "[ 0.04769888  0.03986131 -0.7687813  -0.11107814 -0.63499085 -0.75572883\n",
            " -0.38767541  1.95323209  0.82743609  0.44901012]\n"
          ]
        },
        {
          "output_type": "execute_result",
          "data": {
            "text/plain": [
              "array([ 0.,  0., -1., -0., -1., -1., -0.,  2.,  1.,  0.])"
            ]
          },
          "metadata": {},
          "execution_count": 131
        }
      ]
    },
    {
      "cell_type": "markdown",
      "source": [
        "7. Написать функцию, реализующую алгоритм k-means.\n",
        "\n",
        "Входом в функцию является\n",
        "\n",
        "массив NxM, где N - число объектов, M - число признаков объекта\n",
        "k - число кластеров\n",
        "max_iter - максимальное число итераций\n",
        "theshold - критерий остановки (если на очередной итерации метода суммарное квадратичное отклонение изменяется меньше, чем на theshold, итерации прекращаются)\n",
        "Выход:\n",
        "\n",
        "массив длины N, содержащий индексы кластеров от 0 до k-1\n",
        "суммарное квадратичное отклонение для полученного разбиения на кластеры"
      ],
      "metadata": {
        "id": "t3xm_JGviboz"
      }
    },
    {
      "cell_type": "code",
      "source": [
        "def dist(arr_1, arr_2):#вычисляет расстояние от каждой точки до каждого центра возвращает массив размера N*k\n",
        "  d = np.array((N, k))\n",
        "  for i in range(0, N):\n",
        "      for j in range(0, k):\n",
        "          d[i][j] = np.sqrt(np.sum(np.square(arr_1[i] - arr_2[j])))\n"
      ],
      "metadata": {
        "id": "SFBppB3Rgmge"
      },
      "execution_count": 16,
      "outputs": []
    },
    {
      "cell_type": "code",
      "source": [
        "def quad_dev(centr, arr): #суммарное среднек......\n",
        "  return np.sum(np.sum(np.sum((np.square(centr[i] - arr[j]))for j in res if res[j] == i)  for i in range(0, k))#??????"
      ],
      "metadata": {
        "id": "YKhm9T60mZif"
      },
      "execution_count": null,
      "outputs": []
    },
    {
      "cell_type": "code",
      "source": [
        "def kmeans(arr, k, max_iter, theshold):\n",
        "#выбиарем центры кластеров\n",
        "  res = np.array(N)#массив содержащий индексы кластеров\n",
        "  centr = np.random.randn ((k, M))\n",
        "  dev_1 = quad_dev(centr, arr)\n",
        "\n",
        "  for i in range(0, max_iter):\n",
        "      res = argmin(dist(arr, centr),axis=1) #распределяем элементы по кластерам #минимум в строке \n",
        "      for i in range(0, k): #новые центры масс\n",
        "          mask = res == i \n",
        "          centr[i] = sum(arr, mask, axis=1 )/mask.size #складываем строчки поэлементно - находим новые центры \n",
        "          dev_2 = quad_dev(centr, arr)\n",
        "      if abs(dev_1 - dev_2) < theshold  #критерий остановки\n",
        "          return(centr, dev_2)\n",
        "      else dev_1 = dev_2"
      ],
      "metadata": {
        "id": "CHKS8J2ChqAl"
      },
      "execution_count": 18,
      "outputs": []
    }
  ]
}