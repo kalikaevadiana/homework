{
  "nbformat": 4,
  "nbformat_minor": 0,
  "metadata": {
    "colab": {
      "provenance": []
    },
    "kernelspec": {
      "name": "python3",
      "display_name": "Python 3"
    },
    "language_info": {
      "name": "python"
    }
  },
  "cells": [
    {
      "cell_type": "markdown",
      "source": [
        "**Homework 1**"
      ],
      "metadata": {
        "id": "5tIEZnMZUOJC"
      }
    },
    {
      "cell_type": "code",
      "source": [
        "class Test:\n",
        "    @staticmethod\n",
        "    def assert_equals(a, b, *args, **kwargs):\n",
        "        assert a == b\n",
        "        print('Passed')"
      ],
      "metadata": {
        "id": "wO0y57ngURyG"
      },
      "execution_count": null,
      "outputs": []
    },
    {
      "cell_type": "code",
      "source": [
        "from math import pi"
      ],
      "metadata": {
        "id": "JQMCxpTMWrTe"
      },
      "execution_count": null,
      "outputs": []
    },
    {
      "cell_type": "markdown",
      "source": [
        "Problem https://edabit.com/challenge/2X2uZysLJ3CpsxLDD (1 point)"
      ],
      "metadata": {
        "id": "9hYkKa8uUkDW"
      }
    },
    {
      "cell_type": "code",
      "source": [
        "def radians_to_degrees(rad):\n",
        "  return round(rad * 180 / pi, 1)"
      ],
      "metadata": {
        "id": "s-pIAGOsUYZg"
      },
      "execution_count": null,
      "outputs": []
    },
    {
      "cell_type": "code",
      "execution_count": null,
      "metadata": {
        "colab": {
          "base_uri": "https://localhost:8080/"
        },
        "id": "eW04O7UfUL0I",
        "outputId": "6cf45c43-016c-4908-d6c5-a22ac1ef6a89"
      },
      "outputs": [
        {
          "output_type": "stream",
          "name": "stdout",
          "text": [
            "Passed\n",
            "Passed\n",
            "Passed\n",
            "Passed\n",
            "Passed\n",
            "Passed\n"
          ]
        }
      ],
      "source": [
        "Test.assert_equals(radians_to_degrees(1), 57.3)\n",
        "Test.assert_equals(radians_to_degrees(5), 286.5)\n",
        "Test.assert_equals(radians_to_degrees(7), 401.1)\n",
        "Test.assert_equals(radians_to_degrees(60), 3437.7)\n",
        "Test.assert_equals(radians_to_degrees(100), 5729.6)\n",
        "Test.assert_equals(radians_to_degrees(180), 10313.2)"
      ]
    },
    {
      "cell_type": "markdown",
      "source": [
        "Problem https://edabit.com/challenge/FF6kYPHdAcJnoosr5 (1 point)\n"
      ],
      "metadata": {
        "id": "_lZLKUa4YSds"
      }
    },
    {
      "cell_type": "code",
      "source": [
        "def factorial(num):\n",
        "  res = 1\n",
        "  for i in range (1, num + 1):\n",
        "    res *= i\n",
        "  return (res)"
      ],
      "metadata": {
        "id": "4o_CzLApYbPM"
      },
      "execution_count": null,
      "outputs": []
    },
    {
      "cell_type": "code",
      "source": [
        "Test.assert_equals(factorial(2), 2)\n",
        "Test.assert_equals(factorial(6), 720)\n",
        "Test.assert_equals(factorial(3), 6)\n",
        "Test.assert_equals(factorial(12), 479001600)\n",
        "Test.assert_equals(factorial(5), 120)"
      ],
      "metadata": {
        "colab": {
          "base_uri": "https://localhost:8080/"
        },
        "id": "deUgYHb6Z39k",
        "outputId": "9c416a90-e5ff-4907-f69a-2989a7ae77ed"
      },
      "execution_count": null,
      "outputs": [
        {
          "output_type": "stream",
          "name": "stdout",
          "text": [
            "Passed\n",
            "Passed\n",
            "Passed\n",
            "Passed\n",
            "Passed\n"
          ]
        }
      ]
    },
    {
      "cell_type": "markdown",
      "source": [
        "Problem https://edabit.com/challenge/HSHHkdRYXfgfZSqri (1 point)"
      ],
      "metadata": {
        "id": "MiNhlaFGa_85"
      }
    },
    {
      "cell_type": "code",
      "source": [
        "def damage(dam, speed, time):\n",
        "  if dam < 0 or speed < 0:\n",
        "    return (\"invalid\")\n",
        "  if time == 'second' :\n",
        "    return (dam * speed)\n",
        "  if time == 'minute' :\n",
        "    return (dam * speed * 60)\n",
        "  if time == 'hour' :\n",
        "    return (dam * speed * 60 *60)"
      ],
      "metadata": {
        "id": "CTg5fm4eZ_4f"
      },
      "execution_count": null,
      "outputs": []
    },
    {
      "cell_type": "code",
      "source": [
        "Test.assert_equals(damage(40, 5, \"second\"), 200)\n",
        "Test.assert_equals(damage(100, 1, \"minute\"), 6000)\n",
        "Test.assert_equals(damage(2, 100, \"hour\"), 720000)\n",
        "Test.assert_equals(damage(20, 0.5, \"minute\"), 600)\n",
        "Test.assert_equals(damage(2, 400, \"hour\"), 2880000)\n",
        "Test.assert_equals(damage(-23, 20, \"second\"), \"invalid\")\n",
        "Test.assert_equals(damage(-23, -5, \"second\"), \"invalid\")\n",
        "Test.assert_equals(damage(20, -492321, \"hour\"), \"invalid\")"
      ],
      "metadata": {
        "colab": {
          "base_uri": "https://localhost:8080/"
        },
        "id": "sOrvywLEcLlR",
        "outputId": "7ee346fa-a463-4aef-ccdb-54fb6ab4f279"
      },
      "execution_count": null,
      "outputs": [
        {
          "output_type": "stream",
          "name": "stdout",
          "text": [
            "Passed\n",
            "Passed\n",
            "Passed\n",
            "Passed\n",
            "Passed\n",
            "Passed\n",
            "Passed\n",
            "Passed\n"
          ]
        }
      ]
    },
    {
      "cell_type": "markdown",
      "source": [
        "Problem https://edabit.com/challenge/tgEWKRQD8hu5dD3pX (1 point)"
      ],
      "metadata": {
        "id": "1o4p5Ko2cTL-"
      }
    },
    {
      "cell_type": "code",
      "source": [
        "def mood_today (w2 = \"neutral\"):\n",
        "  w1 = \"Today, I am feeling\"\n",
        "  return (w1 +\" \"+ w2)"
      ],
      "metadata": {
        "id": "zECTLU7fcy7s"
      },
      "execution_count": null,
      "outputs": []
    },
    {
      "cell_type": "code",
      "source": [
        "Test.assert_equals(mood_today(\"happy\"), \"Today, I am feeling happy\")\n",
        "Test.assert_equals(mood_today(\"sad\"), \"Today, I am feeling sad\")\n",
        "Test.assert_equals(mood_today(\"very happy\"), \"Today, I am feeling very happy\")\n",
        "Test.assert_equals(mood_today(\"rather empty inside\"), \"Today, I am feeling rather empty inside\")\n",
        "Test.assert_equals(mood_today(\"confused\"), \"Today, I am feeling confused\")\n",
        "Test.assert_equals(mood_today(), \"Today, I am feeling neutral\")"
      ],
      "metadata": {
        "colab": {
          "base_uri": "https://localhost:8080/"
        },
        "id": "mqJUbMX8dpam",
        "outputId": "fa7dfe62-e267-406c-afea-a34bcd97046f"
      },
      "execution_count": null,
      "outputs": [
        {
          "output_type": "stream",
          "name": "stdout",
          "text": [
            "Passed\n",
            "Passed\n",
            "Passed\n",
            "Passed\n",
            "Passed\n",
            "Passed\n"
          ]
        }
      ]
    },
    {
      "cell_type": "markdown",
      "source": [
        "Problem https://edabit.com/challenge/6nSckbgCx9hjTwmcw (1 point)"
      ],
      "metadata": {
        "id": "U_kr5bXmezvB"
      }
    },
    {
      "cell_type": "code",
      "source": [
        "import time\n",
        "from datetime import date\n",
        "def time_for_milk_and_cookies(date):\n",
        "  if date.day == 24 and date.month == 12:\n",
        "   return True \n",
        "  else:\n",
        "    return False"
      ],
      "metadata": {
        "id": "z2pu-N32drVb"
      },
      "execution_count": null,
      "outputs": []
    },
    {
      "cell_type": "code",
      "source": [
        "import datetime\n",
        "\n",
        "Test.assert_equals(time_for_milk_and_cookies(datetime.date(2013, 12, 24)), True)\n",
        "Test.assert_equals(time_for_milk_and_cookies(datetime.date(3000, 12, 24)), True)\n",
        "Test.assert_equals(time_for_milk_and_cookies(datetime.date(2013, 1, 23)), False)\n",
        "Test.assert_equals(time_for_milk_and_cookies(datetime.date(2010, 11, 2)), False)\n",
        "Test.assert_equals(time_for_milk_and_cookies(datetime.date(1980, 9, 24)), False)"
      ],
      "metadata": {
        "id": "5s23WNUcgQQB",
        "outputId": "322e5b64-558c-466c-a3a7-98d4b023e09a",
        "colab": {
          "base_uri": "https://localhost:8080/"
        }
      },
      "execution_count": null,
      "outputs": [
        {
          "output_type": "stream",
          "name": "stdout",
          "text": [
            "Passed\n",
            "Passed\n",
            "Passed\n",
            "Passed\n",
            "Passed\n"
          ]
        }
      ]
    },
    {
      "cell_type": "markdown",
      "source": [
        "Problem https://edabit.com/challenge/5bYXQfpyoithnQisa (3 points)"
      ],
      "metadata": {
        "id": "7AdcSBpcu4eT"
      }
    },
    {
      "cell_type": "code",
      "source": [
        "char_to_dots = {\n",
        "  'A': '.-', 'B': '-...', 'C': '-.-.', 'D': '-..', 'E': '.', 'F': '..-.',\n",
        "  'G': '--.', 'H': '....', 'I': '..', 'J': '.---', 'K': '-.-', 'L': '.-..',\n",
        "  'M': '--', 'N': '-.', 'O': '---', 'P': '.--.', 'Q': '--.-', 'R': '.-.',\n",
        "  'S': '...', 'T': '-', 'U': '..-', 'V': '...-', 'W': '.--', 'X': '-..-',\n",
        "  'Y': '-.--', 'Z': '--..', ' ': ' ', '0': '-----',\n",
        "  '1': '.----', '2': '..---', '3': '...--', '4': '....-', '5': '.....',\n",
        "  '6': '-....', '7': '--...', '8': '---..', '9': '----.',\n",
        "  '&': '.-...', \"'\": '.----.', '@': '.--.-.', ')': '-.--.-', '(': '-.--.',\n",
        "  ':': '---...', ',': '--..--', '=': '-...-', '!': '-.-.--', '.': '.-.-.-',\n",
        "  '-': '-....-', '+': '.-.-.', '\"': '.-..-.', '?': '..--..', '/': '-..-.'\n",
        "}\n",
        "def encode_morse(message):\n",
        " message = message.upper()\n",
        " morse = char_to_dots[message[0]]\n",
        " for i in range(1, len(message)):\n",
        "    morse = morse + \" \" +char_to_dots[message[i]]\n",
        "   \n",
        " return(morse)"
      ],
      "metadata": {
        "id": "yQWZ1IVyi-Ii"
      },
      "execution_count": 96,
      "outputs": []
    },
    {
      "cell_type": "code",
      "source": [
        "Test.assert_equals(encode_morse(\"EDABBIT CHALLENGE\"), \". -.. .- -... -... .. -   -.-. .... .- .-.. .-.. . -. --. .\")\n",
        "Test.assert_equals(encode_morse(\"HELP ME !\"), \".... . .-.. .--.   -- .   -.-.--\")\n",
        "Test.assert_equals(encode_morse(\"CHALLENGE\"), \"-.-. .... .- .-.. .-.. . -. --. .\")\n",
        "Test.assert_equals(encode_morse(\"1 APPLE AND 5 CHERRY, 7 SANDWICHES, 2 TABLES, 9 INVITED GUYS ! THAT'S SO COOL...\"), \".----   .- .--. .--. .-.. .   .- -. -..   .....   -.-. .... . .-. .-. -.-- --..--   --...   ... .- -. -.. .-- .. -.-. .... . ... --..--   ..---   - .- -... .-.. . ... --..--   ----.   .. -. ...- .. - . -..   --. ..- -.-- ...   -.-.--   - .... .- - .----. ...   ... ---   -.-. --- --- .-.. .-.-.- .-.-.- .-.-.-\")\n",
        "Test.assert_equals(encode_morse(\"did you got my mail ?\"), \"-.. .. -..   -.-- --- ..-   --. --- -   -- -.--   -- .- .. .-..   ..--..\")\n",
        "Test.assert_equals(encode_morse(\"TWO THInGS TO KNOW : i FORGeT THeM :C\"), \"- .-- ---   - .... .. -. --. ...   - ---   -.- -. --- .--   ---...   ..   ..-. --- .-. --. . -   - .... . --   ---... -.-.\")"
      ],
      "metadata": {
        "colab": {
          "base_uri": "https://localhost:8080/"
        },
        "id": "PxEd1-zfjBlR",
        "outputId": "150dc767-f5b1-44d7-f557-90b00233f6b6"
      },
      "execution_count": 98,
      "outputs": [
        {
          "output_type": "stream",
          "name": "stdout",
          "text": [
            "Passed\n",
            "Passed\n",
            "Passed\n",
            "Passed\n",
            "Passed\n",
            "Passed\n"
          ]
        }
      ]
    },
    {
      "cell_type": "markdown",
      "source": [
        "Problem https://edabit.com/challenge/mHLAmj4vmRuXrT8Nb (3 points)"
      ],
      "metadata": {
        "id": "4jW5flyVvqO1"
      }
    },
    {
      "cell_type": "code",
      "source": [
        "def consecutive_combo(lst1, lst2):\n",
        "  lst = lst1 + lst2\n",
        "  lst.sort()\n",
        "  for i in range(0, len(lst) - 1):\n",
        "    if (lst[i + 1] - lst[i] ) != 1 :\n",
        "      return False\n",
        "\n",
        "\n",
        "  return True"
      ],
      "metadata": {
        "id": "MKTSxNIjmFt-"
      },
      "execution_count": 100,
      "outputs": []
    },
    {
      "cell_type": "code",
      "source": [
        "Test.assert_equals(consecutive_combo([1, 4, 5, 7], [2, 3, 6]), True)\n",
        "Test.assert_equals(consecutive_combo([1, 4, 5, 6], [2, 7, 8, 9]), False)\n",
        "Test.assert_equals(consecutive_combo([1, 4, 5, 6], [2, 3, 7, 8, 10]), False)\n",
        "Test.assert_equals(consecutive_combo([7, 5, 4, 1], [2, 3, 6, 8]), True)\n",
        "Test.assert_equals(consecutive_combo([33, 34, 40], [39, 38, 37, 36, 35, 32, 31, 30]), True)\n",
        "Test.assert_equals(consecutive_combo([1, 4, 5, 6], [2, 3, 7, 8, 10]), False)\n",
        "Test.assert_equals(consecutive_combo([44, 46], [45]), True)\n",
        "Test.assert_equals(consecutive_combo([4, 3, 1], [2, 5]), True)\n",
        "Test.assert_equals(consecutive_combo([4, 3, 1], [2, 5, 7, 6]), True)\n",
        "Test.assert_equals(consecutive_combo([4, 3, 1], [7, 6, 5]), False)\n",
        "Test.assert_equals(consecutive_combo([4, 3, 1], [0, 7, 6, 5]), False)\n",
        "Test.assert_equals(consecutive_combo([44, 46], [45]), True)"
      ],
      "metadata": {
        "colab": {
          "base_uri": "https://localhost:8080/"
        },
        "id": "YdRmKGVyxD8w",
        "outputId": "4675e0d0-dfe1-4db1-e4b3-16d44ac3720a"
      },
      "execution_count": 101,
      "outputs": [
        {
          "output_type": "stream",
          "name": "stdout",
          "text": [
            "Passed\n",
            "Passed\n",
            "Passed\n",
            "Passed\n",
            "Passed\n",
            "Passed\n",
            "Passed\n",
            "Passed\n",
            "Passed\n",
            "Passed\n",
            "Passed\n",
            "Passed\n"
          ]
        }
      ]
    },
    {
      "cell_type": "markdown",
      "source": [
        "Problem https://edabit.com/challenge/f3jX2BwzAuR8DXsy4 (3 points)"
      ],
      "metadata": {
        "id": "O4D4WuobxuIn"
      }
    },
    {
      "cell_type": "code",
      "source": [
        "def fact_of_fact(n):\n",
        "  res = 1\n",
        "  for i in range(1, n + 1):\n",
        "    for j in range(1, i + 1):\n",
        "      res *= j\n",
        "  return res"
      ],
      "metadata": {
        "id": "NTKuy44JxHYv"
      },
      "execution_count": 105,
      "outputs": []
    },
    {
      "cell_type": "code",
      "source": [
        "Test.assert_equals(fact_of_fact(4), 288),\n",
        "Test.assert_equals(fact_of_fact(1), 1),\n",
        "Test.assert_equals(fact_of_fact(5), 34560),\n",
        "Test.assert_equals(fact_of_fact(2), 2),\n",
        "Test.assert_equals(fact_of_fact(6), 24883200),\n",
        "Test.assert_equals(fact_of_fact(3), 12),\n",
        "Test.assert_equals(fact_of_fact(14), 69113789582492712943486800506462734562847413501952000000000000000),\n",
        "Test.assert_equals(fact_of_fact(11), 265790267296391946810949632000000000),\n",
        "Test.assert_equals(fact_of_fact(7), 125411328000),\n",
        "Test.assert_equals(fact_of_fact(22), 73185187344722251685917129061596359994436879170423331597220791224873045503248922811481956548134913475324429128068839519292427638045690327208977109451014144000000000000000000000000000000000000000000),\n",
        "Test.assert_equals(fact_of_fact(13), 792786697595796795607377086400871488552960000000000000),\n",
        "Test.assert_equals(fact_of_fact(8), 5056584744960000),\n",
        "Test.assert_equals(fact_of_fact(10), 6658606584104736522240000000),\n",
        "Test.assert_equals(fact_of_fact(9), 1834933472251084800000 ),\n",
        "Test.assert_equals(fact_of_fact(12), 127313963299399416749559771247411200000000000 ),\n",
        "Test.assert_equals(fact_of_fact(15), 90378331112371142262979521568630736335023247731599748366336000000000000000000 ),\n",
        "Test.assert_equals(fact_of_fact(16), 1890966832292234727042877370627225068196418587883634153182519380410368000000000000000000000 ),\n",
        "Test.assert_equals(fact_of_fact(17), 672593129192865130334217631473916658864122332882577979675277211683839238972899328000000000000000000000000 ),\n",
        "Test.assert_equals(fact_of_fact(18), 4306192564997715382115598640379294845786123319603755168023536027873932927153136831171640950784000000000000000000000000000 ),\n",
        "Test.assert_equals(fact_of_fact(19), 523827226948912906162136183269887782788685420217963126789982275317725639664591791615428617583779071590924288000000000000000000000000000000 ),\n",
        "Test.assert_equals(fact_of_fact(20), 1274420312381610764187232669591245728094053576480399681464607478621086015845192873311847341571189522511934190056991170232320000000000000000000000000000000000 ),\n",
        "Test.assert_equals(fact_of_fact(21), 65111334482340755583337032079153276047018894694274871209973336023462275586396482041798135409436085152342597056410325664391109570976337100800000000000000000000000000000000000000 ),\n"
      ],
      "metadata": {
        "colab": {
          "base_uri": "https://localhost:8080/"
        },
        "id": "kIqXOdcZyRRw",
        "outputId": "13fd49f6-7219-4a6d-fa0a-131145cbba5e"
      },
      "execution_count": 107,
      "outputs": [
        {
          "output_type": "stream",
          "name": "stdout",
          "text": [
            "Passed\n",
            "Passed\n",
            "Passed\n",
            "Passed\n",
            "Passed\n",
            "Passed\n",
            "Passed\n",
            "Passed\n",
            "Passed\n",
            "Passed\n",
            "Passed\n",
            "Passed\n",
            "Passed\n",
            "Passed\n",
            "Passed\n",
            "Passed\n",
            "Passed\n",
            "Passed\n",
            "Passed\n",
            "Passed\n",
            "Passed\n",
            "Passed\n"
          ]
        },
        {
          "output_type": "execute_result",
          "data": {
            "text/plain": [
              "(None,)"
            ]
          },
          "metadata": {},
          "execution_count": 107
        }
      ]
    },
    {
      "cell_type": "markdown",
      "source": [
        "Problem https://edabit.com/challenge/iRCwdDBkNcHM5QeAm (1 point)"
      ],
      "metadata": {
        "id": "aodfkY5Nzd1B"
      }
    },
    {
      "cell_type": "code",
      "source": [
        "def card_hide(card):\n",
        " temp = \"\"\n",
        " for i in range(0, len(card) - 4):\n",
        "   temp += \"*\"\n",
        " for i in range(len(card) - 4, len(card)):\n",
        "   temp += card[i]\n",
        "\n",
        " return temp "
      ],
      "metadata": {
        "id": "rTuw0r5Dzemh"
      },
      "execution_count": 108,
      "outputs": []
    },
    {
      "cell_type": "code",
      "source": [
        "Test.assert_equals(card_hide(\"1234123456785678\"), \"************5678\")\n",
        "Test.assert_equals(card_hide(\"8754456321113213\"), \"************3213\")\n",
        "Test.assert_equals(card_hide(\"35123413355523\"), \"**********5523\")"
      ],
      "metadata": {
        "colab": {
          "base_uri": "https://localhost:8080/"
        },
        "id": "ZImtsKjN0IVw",
        "outputId": "a46ee655-2d16-46c0-a24e-2435b018d9be"
      },
      "execution_count": 110,
      "outputs": [
        {
          "output_type": "stream",
          "name": "stdout",
          "text": [
            "Passed\n",
            "Passed\n",
            "Passed\n"
          ]
        }
      ]
    },
    {
      "cell_type": "code",
      "source": [],
      "metadata": {
        "id": "03BMcJJN0fUu"
      },
      "execution_count": null,
      "outputs": []
    }
  ]
}