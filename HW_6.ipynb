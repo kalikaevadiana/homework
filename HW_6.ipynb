{
  "nbformat": 4,
  "nbformat_minor": 0,
  "metadata": {
    "colab": {
      "provenance": []
    },
    "kernelspec": {
      "name": "python3",
      "display_name": "Python 3"
    },
    "language_info": {
      "name": "python"
    }
  },
  "cells": [
    {
      "cell_type": "code",
      "source": [
        "import numpy as np\n",
        "import matplotlib.pyplot as plt\n",
        "from scipy.stats import norm"
      ],
      "metadata": {
        "id": "gx2FcDDqaJAy"
      },
      "execution_count": 3,
      "outputs": []
    },
    {
      "cell_type": "markdown",
      "source": [
        "Задача 1\n",
        "Примените алгоритм Metropolis для генерации выборки из распределения с плотностью p(x) = 0.3N(-4, 2) + 0.7N(3, 6), где N(a, b) - плотность нормального распределения со средним a и дисперсией b. Покажите, что гистограмма, построенная по выборке, приближает заданную плотность смеси.\n"
      ],
      "metadata": {
        "id": "9sDideyRZ8Xc"
      }
    },
    {
      "cell_type": "code",
      "source": [
        "def metroplis(start, value, proposal, niter, nburn=0, **kwargs):\n",
        "    '''Generic Metropolis scheme.\n",
        "    Parameters\n",
        "    ---\n",
        "    start : misc\n",
        "        Initial guess.\n",
        "    value : callable\n",
        "        Function to calculate density (unnormalized) at given point.\n",
        "    proposal : callable\n",
        "        Function to get suggestion on a new point based on a current one.\n",
        "    niter : int\n",
        "        Number of iterations.\n",
        "    nburn : int\n",
        "        Number of initial samples to be skipped.\n",
        "    kwargs : dict\n",
        "        Keywords to be passed in value and proposal.\n",
        "\n",
        "    Return\n",
        "    ---\n",
        "    post : list\n",
        "        List of samples obtained.\n",
        "    '''\n",
        "    current = start\n",
        "    post = [current]\n",
        "    for i in range(niter):\n",
        "        proposed = proposal(current, **kwargs)\n",
        "        p = value(proposed, **kwargs) / value(current, **kwargs)\n",
        "        if np.random.rand() < p:\n",
        "            current = proposed\n",
        "        post.append(current)\n",
        "    return post[nburn:]"
      ],
      "metadata": {
        "id": "rT9LtskFqKOQ"
      },
      "execution_count": 9,
      "outputs": []
    },
    {
      "cell_type": "code",
      "execution_count": 21,
      "metadata": {
        "id": "NqW3MpPiUc6x",
        "colab": {
          "base_uri": "https://localhost:8080/",
          "height": 320
        },
        "outputId": "e1acb5a6-914d-4b17-d37d-16603b0e4a0d"
      },
      "outputs": [
        {
          "output_type": "display_data",
          "data": {
            "text/plain": [
              "<Figure size 720x360 with 1 Axes>"
            ],
            "image/png": "[encoded data removed]"
          },
          "metadata": {
            "needs_background": "light"
          }
        }
      ],
      "source": [
        "\n",
        "value = lambda x: 0.3*norm(-4, np.sqrt(2)).pdf(x) + 0.7*norm(3, np.sqrt(6)).pdf(x)\n",
        "proposal = lambda x: (x + np.random.choice([-1, 1])+10)%21-10\n",
        "res = metroplis(0, value, proposal, 1000)\n",
        "\n",
        "plt.figure(figsize=(10, 5))\n",
        "plt.hist(res, bins=np.arange(-12,12), density=True, color = \"lightseagreen\")\n",
        "\n",
        "x = np.linspace(-12, 12, 1000)\n",
        "y = 0.3*norm(-4, np.sqrt(2)).pdf(x) + 0.7*norm(3, np.sqrt(6)).pdf(x)\n",
        "\n",
        "plt.plot(x, y, color = \"maroon\")\n",
        "plt.show()"
      ]
    },
    {
      "cell_type": "markdown",
      "source": [
        "Задача 2 \n",
        "Оценить  En(ξ)  для графа 10х10\n",
        "Построить график распределеиня  n(ξ)"
      ],
      "metadata": {
        "id": "uhH4Dp80raop"
      }
    },
    {
      "cell_type": "code",
      "source": [
        "vert = np.zeros((10, 10))\n",
        "colored_vert = []\n",
        "for i in range(1990): \n",
        "  x = np.random.randint(10)\n",
        "  y = np.random.randint(10)\n",
        "  if(vert[x,y] == 0):\n",
        "    if(vert[max(x - 1, 0), y] != 1 and \n",
        "       vert[min(x + 1, 10 - 1), y] != 1 and \n",
        "       vert[x, max(y - 1, 0)] != 1 and \n",
        "       vert[x, min(y + 1, 10 - 1)] != 1):\n",
        "      vert[x, y] = 1\n",
        "  else:\n",
        "    vert[x, y] = 0\n",
        "\n",
        "  colored_vert += [vert.sum()]\n",
        "print(np.mean(colored_vert))"
      ],
      "metadata": {
        "colab": {
          "base_uri": "https://localhost:8080/"
        },
        "id": "xjHS7-HVDY-j",
        "outputId": "95477e67-c155-4921-a9ee-d97ff3fc4ee8"
      },
      "execution_count": 99,
      "outputs": [
        {
          "output_type": "stream",
          "name": "stdout",
          "text": [
            "22.913065326633166\n"
          ]
        }
      ]
    },
    {
      "cell_type": "code",
      "source": [
        "plt.hist(colored_vert, bins = 16)\n",
        "plt.show()\n"
      ],
      "metadata": {
        "colab": {
          "base_uri": "https://localhost:8080/",
          "height": 265
        },
        "id": "o2zMMdTF2ErR",
        "outputId": "2009ec57-9083-4c4b-fb59-4a8364656f36"
      },
      "execution_count": 106,
      "outputs": [
        {
          "output_type": "display_data",
          "data": {
            "text/plain": [
              "<Figure size 432x288 with 1 Axes>"
            ],
            "image/png": "[encoded data removed]"
          },
          "metadata": {
            "needs_background": "light"
          }
        }
      ]
    },
    {
      "cell_type": "code",
      "source": [],
      "metadata": {
        "id": "B-ufyGtN9yHT"
      },
      "execution_count": 41,
      "outputs": []
    }
  ]
}