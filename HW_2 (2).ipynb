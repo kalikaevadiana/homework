{
  "nbformat": 4,
  "nbformat_minor": 0,
  "metadata": {
    "colab": {
      "provenance": []
    },
    "kernelspec": {
      "name": "python3",
      "display_name": "Python 3"
    },
    "language_info": {
      "name": "python"
    }
  },
  "cells": [
    {
      "cell_type": "code",
      "source": [
        "import numpy as np"
      ],
      "metadata": {
        "id": "6jpVAV5t1D2J"
      },
      "execution_count": 1,
      "outputs": []
    },
    {
      "cell_type": "markdown",
      "source": [
        "\n",
        "\n",
        "1. Создайте матрицу 5x5 со значениями 1,2,3,4 под главной диагональю. Остальные значения - нули.\n",
        "\n",
        "\n"
      ],
      "metadata": {
        "id": "8djsa2jB0Xt7"
      }
    },
    {
      "cell_type": "code",
      "execution_count": null,
      "metadata": {
        "colab": {
          "base_uri": "https://localhost:8080/"
        },
        "id": "E8T8cYm-0K94",
        "outputId": "bac5cf36-ea99-451d-f3b4-0b6e8a2be513"
      },
      "outputs": [
        {
          "output_type": "stream",
          "name": "stdout",
          "text": [
            "[[0. 0. 0. 0. 0.]\n",
            " [1. 0. 0. 0. 0.]\n",
            " [0. 2. 0. 0. 0.]\n",
            " [0. 0. 3. 0. 0.]\n",
            " [0. 0. 0. 4. 0.]]\n"
          ]
        }
      ],
      "source": [
        "c = np.vstack(( np.zeros(4), np.diag([1, 2, 3 , 4])))\n",
        "b = np.zeros(5).reshape(-1, 1)\n",
        "c = np.hstack((c, b))\n",
        "print(c)"
      ]
    },
    {
      "cell_type": "markdown",
      "source": [
        "2.Создайте двумерный массив 10x3, заполненный случайными значениями. В каждой строке выберите значение, наиболее близкое к 0.5.\n",
        "\n"
      ],
      "metadata": {
        "id": "a-rY8j7398Da"
      }
    },
    {
      "cell_type": "code",
      "source": [
        "a = np.random.randn(10, 3)\n",
        "print(a)\n",
        "b = np.argmin(abs(a - 0.5), axis = 1)\n",
        "for i in range(0, 9):\n",
        "   print(a[i][b[i]])\n"
      ],
      "metadata": {
        "colab": {
          "base_uri": "https://localhost:8080/"
        },
        "id": "ZKLRK5Sw2iKN",
        "outputId": "fbb18071-ad63-473c-aebf-0534c569f464"
      },
      "execution_count": null,
      "outputs": [
        {
          "output_type": "stream",
          "name": "stdout",
          "text": [
            "[[-0.4546923  -0.16365353  0.85490903]\n",
            " [ 0.68186439 -0.12902407 -1.23820045]\n",
            " [ 0.1116527  -0.87489489  0.67707747]\n",
            " [ 0.85483538  0.15632114  0.70042885]\n",
            " [-0.19370473  0.58114585  0.5408343 ]\n",
            " [ 1.19679138  0.84568016 -0.78418755]\n",
            " [ 0.97463716  1.67350318  0.18111498]\n",
            " [-0.42461675  0.45087727 -1.85188717]\n",
            " [-0.54089401  0.05482179 -0.89924913]\n",
            " [ 0.69558226  0.21895459 -0.11689562]]\n",
            "0.8549090309096682\n",
            "0.6818643858999475\n",
            "0.6770774661868749\n",
            "0.7004288485043304\n",
            "0.54083430190037\n",
            "0.8456801632138001\n",
            "0.1811149777682282\n",
            "0.4508772670080649\n",
            "0.05482178679010374\n"
          ]
        }
      ]
    },
    {
      "cell_type": "markdown",
      "source": [
        "3.Создайте двумерный массив 6x6, заполненный случайными значениями. Сумму по каждой строке поделите на максимальный элемент из столбца с тем же индексом."
      ],
      "metadata": {
        "id": "6fkceIfgDfSt"
      }
    },
    {
      "cell_type": "code",
      "source": [
        "a = np.random.randn(6, 6)\n",
        "print(a, a[2])\n",
        "\n",
        "b = np.max(a, axis = 0)\n",
        "c = np.sum(a, axis = 1)\n",
        "print(b, c)\n",
        "for i in range(0, 5):\n",
        "  print(c[i]/b[i])\n",
        "   "
      ],
      "metadata": {
        "colab": {
          "base_uri": "https://localhost:8080/"
        },
        "id": "EdNAIrRXDvWj",
        "outputId": "34f748e0-0143-4467-aaf4-6d124a098ec5"
      },
      "execution_count": null,
      "outputs": [
        {
          "output_type": "stream",
          "name": "stdout",
          "text": [
            "[[-1.18526823  0.17688972  1.47630702 -0.01622361  0.20394831 -0.86801218]\n",
            " [ 0.47321369 -0.42708466  0.21577376  0.93764967 -0.02228831 -0.50500432]\n",
            " [ 1.37684601  0.53378332  1.6776082   1.11067089 -1.11366801  0.14444075]\n",
            " [ 0.37953876  0.48408014  1.05265678 -0.40502398  1.30541777 -0.39050222]\n",
            " [-0.20985058 -2.16515375 -0.50595343 -1.43285323  0.23908572  0.13610745]\n",
            " [ 0.4289061   1.12316983 -1.01908129 -1.36612457  1.32641729 -0.12177013]] [ 1.37684601  0.53378332  1.6776082   1.11067089 -1.11366801  0.14444075]\n",
            "[1.37684601 1.12316983 1.6776082  1.11067089 1.32641729 0.14444075] [-0.21235896  0.67225983  3.72968116  2.42616724 -3.93861782  0.37151722]\n",
            "-0.15423581219610163\n",
            "0.598538011821684\n",
            "2.2232134718601975\n",
            "2.1844159851900447\n",
            "-2.969365558657086\n"
          ]
        }
      ]
    },
    {
      "cell_type": "markdown",
      "source": [
        "4.\n",
        "\n",
        "\n",
        "\n",
        "\n",
        "\n",
        "\n",
        "\n",
        "\n",
        "\n",
        "\n",
        "\n",
        "\n",
        "На примере массива x = np.array([6, 2, 0, 3, 0, 0, 5, 7, 0]) найдите максимальный элемент в массиве среди элементов, перед которыми стоит ноль."
      ],
      "metadata": {
        "id": "xeDfreBkDjge"
      }
    },
    {
      "cell_type": "code",
      "source": [
        "x = np.array([6, 2, 0, 3, 0, 0, 5, 7, 0])\n",
        "max(x[i] for i in range(1, len(x)) if x[i - 1] == 0)\n"
      ],
      "metadata": {
        "colab": {
          "base_uri": "https://localhost:8080/"
        },
        "id": "p9a7u-fFDrFW",
        "outputId": "bc1c92f6-36f3-410c-f34e-bee05b21d0aa"
      },
      "execution_count": null,
      "outputs": [
        {
          "output_type": "execute_result",
          "data": {
            "text/plain": [
              "5"
            ]
          },
          "metadata": {},
          "execution_count": 6
        }
      ]
    },
    {
      "cell_type": "markdown",
      "source": [
        "5.Пусть заданы два массива x = np.ones(10) и i = np.array([0, 1, 2, 3, 5, 5, 5, 8]). Прибавьте единицу к тем элементам массива x, индексы которых указаны в массиве i. В случае, если некоторый индекс встретился в массиве i несколько раз, прибавьте к соответствующему элементу массива x число вхождений данного индекса в массив i.\n"
      ],
      "metadata": {
        "id": "9CT922TtDlzW"
      }
    },
    {
      "cell_type": "code",
      "source": [
        "x = np.ones(10)\n",
        "i = np.array([0, 1, 2, 3, 5, 5, 5, 8])\n",
        "\n",
        "for k in range(0, len(i)):\n",
        "  x [i[k]] = x [i[k]] + 1\n",
        "#x[i] = x[i] + 1\n",
        "print( x)"
      ],
      "metadata": {
        "colab": {
          "base_uri": "https://localhost:8080/"
        },
        "id": "MKtKqOHv-gwp",
        "outputId": "4f1e8cf8-0e03-4298-d00d-a62292832807"
      },
      "execution_count": null,
      "outputs": [
        {
          "output_type": "stream",
          "name": "stdout",
          "text": [
            "[2. 2. 2. 2. 1. 4. 1. 1. 2. 1.]\n"
          ]
        }
      ]
    },
    {
      "cell_type": "markdown",
      "source": [
        "6. Сколько вы можете предложить способов округлить значения в массиве до ближайшего целого?"
      ],
      "metadata": {
        "id": "l9wGtcAFhW7I"
      }
    },
    {
      "cell_type": "code",
      "source": [
        "a = np.random.randn(10)\n",
        "print(a)\n",
        "np.around(a)"
      ],
      "metadata": {
        "colab": {
          "base_uri": "https://localhost:8080/"
        },
        "id": "VP15iFuVeiE3",
        "outputId": "37c9150e-97bf-4495-e2ea-d14eee301b78"
      },
      "execution_count": null,
      "outputs": [
        {
          "output_type": "stream",
          "name": "stdout",
          "text": [
            "[ 0.38019297 -1.05017624  0.12284608 -0.14484386  1.18313658  0.52361989\n",
            "  0.27334253  0.51399737  0.60697672  1.44822997]\n"
          ]
        },
        {
          "output_type": "execute_result",
          "data": {
            "text/plain": [
              "array([ 0., -1.,  0., -0.,  1.,  1.,  0.,  1.,  1.,  1.])"
            ]
          },
          "metadata": {},
          "execution_count": 8
        }
      ]
    },
    {
      "cell_type": "markdown",
      "source": [
        "7-8. Написать функцию, реализующую алгоритм k-means.\n",
        "\n",
        "Входом в функцию является\n",
        "\n",
        "массив NxM, где N - число объектов, M - число признаков объекта\n",
        "k - число кластеров\n",
        "max_iter - максимальное число итераций\n",
        "theshold - критерий остановки (если на очередной итерации метода суммарное квадратичное отклонение изменяется меньше, чем на theshold, итерации прекращаются)\n",
        "Выход:\n",
        "\n",
        "массив длины N, содержащий индексы кластеров от 0 до k-1\n",
        "суммарное квадратичное отклонение для полученного разбиения на кластеры"
      ],
      "metadata": {
        "id": "t3xm_JGviboz"
      }
    },
    {
      "cell_type": "code",
      "source": [
        "def dist(arr, centr):\n",
        "    return np.vectorize(lambda i: np.argmin(np.apply_along_axis(lambda c: np.linalg.norm(arr[i] - c), 1, centr)))(np.arange(arr.shape[0]))   "
      ],
      "metadata": {
        "id": "-LgK56JvVhon"
      },
      "execution_count": 2,
      "outputs": []
    },
    {
      "cell_type": "code",
      "source": [
        "def quad_dev(arr, centr, res):\n",
        "    return sum(np.apply_along_axis(np.linalg.norm, 0, arr - centr[res]))"
      ],
      "metadata": {
        "id": "D7pUYComVkEu"
      },
      "execution_count": 3,
      "outputs": []
    },
    {
      "cell_type": "code",
      "source": [
        "def findcenter(arr,res,k):\n",
        "    return np.vectorize(lambda i: np.sum(arr[res == i]) / (arr[res == i].shape[0]))(np.arange(k))"
      ],
      "metadata": {
        "id": "eJ6WMGx7Vn2y"
      },
      "execution_count": 4,
      "outputs": []
    },
    {
      "cell_type": "code",
      "source": [
        "def kmeans(arr, k, iter, eps = 0.001):\n",
        "    \n",
        "    centr = arr[np.random.randint(0, arr.shape[0], k)]\n",
        "    \n",
        "    for i in range(0, iter):  \n",
        "      res = dist(arr, centr)\n",
        "      dev_1 = quad_dev(arr, centr, res)\n",
        "      dev_2 = dev_1\n",
        "      \n",
        "      while abs(dev_2 - dev_1) > eps:\n",
        "          dev_1 = dev_2\n",
        "          centr = findcenter(arr,res,k)\n",
        "          ResourceWarning = dist(arr, centr)\n",
        "          dev_2 = quad_dev(arr, centr, res)\n",
        "          \n",
        "    return (centr, dev_2, res)"
      ],
      "metadata": {
        "id": "QAP7qDThTrbj"
      },
      "execution_count": 5,
      "outputs": []
    },
    {
      "cell_type": "code",
      "source": [
        "from sklearn.datasets import fetch_openml\n",
        "\n",
        "#Загрузка может занять около минуты\n",
        "images, labels = fetch_openml('mnist_784', return_X_y=True, as_frame=False)\n",
        "import matplotlib.pyplot as plt"
      ],
      "metadata": {
        "id": "Suj7RWRpUmrC"
      },
      "execution_count": 6,
      "outputs": []
    },
    {
      "cell_type": "code",
      "source": [
        "model = kmeans(images, 10, 5)\n",
        "centers = model[0]"
      ],
      "metadata": {
        "id": "38dRioPRV0t6"
      },
      "execution_count": 14,
      "outputs": []
    },
    {
      "cell_type": "code",
      "source": [
        "centers.shape\n"
      ],
      "metadata": {
        "colab": {
          "base_uri": "https://localhost:8080/"
        },
        "id": "TIrscl58Y19_",
        "outputId": "fef3114e-91d5-425a-c42d-d925aba3c16b"
      },
      "execution_count": null,
      "outputs": [
        {
          "output_type": "execute_result",
          "data": {
            "text/plain": [
              "(10, 784)"
            ]
          },
          "metadata": {},
          "execution_count": 23
        }
      ]
    },
    {
      "cell_type": "code",
      "source": [
        "fig, axes = plt.subplots(1, 10, figsize=(20, 6))\n",
        "\n",
        "for i, ax in enumerate(axes):\n",
        "    ax.imshow(centers[i].reshape(28, 28))\n",
        "    ax.axis('off')"
      ],
      "metadata": {
        "colab": {
          "base_uri": "https://localhost:8080/",
          "height": 125
        },
        "id": "aEr1SqGTWTLg",
        "outputId": "c1bd2618-5e80-4788-fe63-eded4c126736"
      },
      "execution_count": null,
      "outputs": [
        {
          "output_type": "display_data",
          "data": {
            "text/plain": [
              "<Figure size 1440x432 with 10 Axes>"
            ],
            "image/png": "[encoded data removed]"
          },
          "metadata": {
            "needs_background": "light"
          }
        }
      ]
    },
    {
      "cell_type": "code",
      "source": [
        "translate = dict(zip(np.arange(10), [8, 2, 4, 7, 1, 0, 6, 4, 8, 4]))\n",
        "label = [0, 1, 2, 3, 4, 5, 6, 7, 8, 9]\n",
        "new_labels = np.array([translate[i] for i in range(0, 10)])\n",
        "print(new_labels)"
      ],
      "metadata": {
        "colab": {
          "base_uri": "https://localhost:8080/"
        },
        "id": "OUlxIsK5g5BW",
        "outputId": "f9f90bdc-68b8-4856-cbfc-ecebc308da8f"
      },
      "execution_count": null,
      "outputs": [
        {
          "output_type": "stream",
          "name": "stdout",
          "text": [
            "[8 2 4 7 1 0 6 4 8 4]\n"
          ]
        }
      ]
    },
    {
      "cell_type": "code",
      "source": [
        "new_lab = model[2]\n",
        "sum = 0\n",
        "for i in range(0, 70000):\n",
        "  if(new_lab[i] == int(labels[i])):\n",
        "    sum = sum + 1\n",
        "print(sum)"
      ],
      "metadata": {
        "colab": {
          "base_uri": "https://localhost:8080/"
        },
        "id": "_STCgFCa6CCV",
        "outputId": "d4615c9f-24bd-4669-dfc5-e70ec2454cb3"
      },
      "execution_count": null,
      "outputs": [
        {
          "output_type": "stream",
          "name": "stdout",
          "text": [
            "9073\n"
          ]
        }
      ]
    },
    {
      "cell_type": "code",
      "source": [
        "elbow = np.arange(1, 14)\n",
        "for k in range(0, 13):\n",
        "  elbow[k] = kmeans(images, k + 1, 5)[1]\n"
      ],
      "metadata": {
        "id": "bBmZT6aR5igO"
      },
      "execution_count": 7,
      "outputs": []
    },
    {
      "cell_type": "code",
      "source": [
        "plt.plot(np.arange(1, 14), elbow,'r')\n",
        "plt.xlabel(\"k\")\n",
        "plt.ylabel(\"суммарное квадратичное отклонение\")\n",
        "plt.title(\"метод elbow\")\n",
        "plt.show()"
      ],
      "metadata": {
        "id": "Gidt9tFbDfgX",
        "colab": {
          "base_uri": "https://localhost:8080/",
          "height": 295
        },
        "outputId": "f739537a-b591-4309-af0c-de7f9a2f9aea"
      },
      "execution_count": 9,
      "outputs": [
        {
          "output_type": "display_data",
          "data": {
            "text/plain": [
              "<Figure size 432x288 with 1 Axes>"
            ],
            "image/png": "[encoded data removed]"
          },
          "metadata": {
            "needs_background": "light"
          }
        }
      ]
    },
    {
      "cell_type": "code",
      "source": [],
      "metadata": {
        "id": "1P2SOdOQBFsv"
      },
      "execution_count": null,
      "outputs": []
    }
  ]
}